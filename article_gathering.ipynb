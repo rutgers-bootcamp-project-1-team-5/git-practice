{
 "cells": [
  {
   "cell_type": "code",
   "execution_count": 1,
   "metadata": {},
   "outputs": [],
   "source": [
    "import json\n",
    "import requests\n",
    "from api_keys import marketaux_key"
   ]
  },
  {
   "cell_type": "code",
   "execution_count": 11,
   "metadata": {},
   "outputs": [],
   "source": [
    "# We will query backwards from this datetime. Make sure to update it to the time period you're interested in!\n",
    "oldest_datetime = '2024-01-02T22:44:26'\n",
    "\n",
    "# I am not sure how many articles are printed each day, so the number of queries (i) to issue is arbitrary.\n",
    "# Make sure not to exceed your api query limit!\n",
    "for i in range(10):\n",
    "    params = {\n",
    "        'symbols' : 'META',\n",
    "        #'countries' : 'us',\n",
    "        'filter_entities' : 'true',\n",
    "        'published_before' : oldest_datetime,\n",
    "        #'published_after' : '2024-01-02T22:44:26',\n",
    "        'api_token' : marketaux_key\n",
    "    }\n",
    "\n",
    "    response = requests.get('https://api.marketaux.com/v1/news/all', params=params)\n",
    "\n",
    "    with open('articles.json', 'a', encoding='utf-8') as f:\n",
    "        # Dump the latest request into a json file\n",
    "        json.dump(response.json(), f, indent=4)\n",
    "        f.write(',\\n')\n",
    "        # The articles are ordered from latest to oldest, so the next datetime to grab is at the end of the list.\n",
    "        oldest_datetime = response.json()['data'][-1]['published_at']\n",
    "        oldest_datetime = oldest_datetime[:oldest_datetime.find('.')]"
   ]
  }
 ],
 "metadata": {
  "kernelspec": {
   "display_name": "dev",
   "language": "python",
   "name": "python3"
  },
  "language_info": {
   "codemirror_mode": {
    "name": "ipython",
    "version": 3
   },
   "file_extension": ".py",
   "mimetype": "text/x-python",
   "name": "python",
   "nbconvert_exporter": "python",
   "pygments_lexer": "ipython3",
   "version": "3.10.13"
  }
 },
 "nbformat": 4,
 "nbformat_minor": 2
}
